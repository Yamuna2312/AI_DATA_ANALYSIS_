{
  "nbformat": 4,
  "nbformat_minor": 0,
  "metadata": {
    "colab": {
      "provenance": []
    },
    "kernelspec": {
      "name": "python3",
      "display_name": "Python 3"
    },
    "language_info": {
      "name": "python"
    }
  },
  "cells": [
    {
      "cell_type": "code",
      "execution_count": null,
      "metadata": {
        "id": "4sAJ1g-W8qcD"
      },
      "outputs": [],
      "source": [
        "# Step 1: Import libraries\n",
        "import pandas as pd\n",
        "import numpy as np\n",
        "from sklearn.ensemble import RandomForestClassifier\n",
        "from sklearn.model_selection import train_test_split\n",
        "from sklearn.metrics import classification_report\n",
        "\n",
        "# Step 2: Simulate sample data with quality issues\n",
        "data = {\n",
        "    'age': [25, 30, np.nan, 40, 1000],  # 1000 is an outlier\n",
        "    'income': [50000, 60000, 55000, None, 70000],\n",
        "    'gender': ['M', 'F', 'F', 'M', 'Unknown']\n",
        "}\n",
        "\n",
        "df = pd.DataFrame(data)\n",
        "\n",
        "# Step 3: Label rows with data quality issues (target variable)\n",
        "# If any missing value, outlier or unknown in a row → label as 1 (issue), else 0 (clean)\n",
        "def label_issues(row):\n",
        "    if (pd.isnull(row['age']) or pd.isnull(row['income']) or\n",
        "        row['age'] > 120 or row['gender'] == 'Unknown'):\n",
        "        return 1\n",
        "    return 0\n",
        "\n",
        "df['issue'] = df.apply(label_issues, axis=1)\n",
        "\n",
        "# Step 4: Preprocess\n",
        "df_clean = df.copy()\n",
        "df_clean['gender'] = df_clean['gender'].replace('Unknown', np.nan)\n",
        "df_clean['gender'] = df_clean['gender'].map({'M': 0, 'F': 1})\n",
        "df_clean = df_clean.fillna(df_clean.mean(numeric_only=True))\n",
        "\n",
        "# Step 5: Train ML model\n",
        "X = df_clean[['age', 'income', 'gender']]\n",
        "y = df_clean['issue']\n",
        "\n",
        "X_train, X_test, y_train, y_test = train_test_split(X, y, test_size=0.2, random_state=42)\n",
        "\n",
        "model = RandomForestClassifier()\n",
        "model.fit(X_train, y_train)\n",
        "\n",
        "# Step 6: Predict and evaluate\n",
        "y_pred = model.predict(X_test)\n",
        "print(\"Classification Report:\\n\", classification_report(y_test, y_pred))"
      ]
    },
    {
      "cell_type": "code",
      "source": [],
      "metadata": {
        "id": "LdDu35dG8vo-"
      },
      "execution_count": null,
      "outputs": []
    }
  ]
}