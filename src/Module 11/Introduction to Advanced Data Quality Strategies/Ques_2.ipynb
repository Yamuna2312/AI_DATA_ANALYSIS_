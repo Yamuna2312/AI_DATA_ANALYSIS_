{
  "nbformat": 4,
  "nbformat_minor": 0,
  "metadata": {
    "colab": {
      "provenance": []
    },
    "kernelspec": {
      "name": "python3",
      "display_name": "Python 3"
    },
    "language_info": {
      "name": "python"
    }
  },
  "cells": [
    {
      "cell_type": "code",
      "execution_count": null,
      "metadata": {
        "id": "lpKrv0Ff72Yf"
      },
      "outputs": [],
      "source": [
        "# Step 1: Load and analyze an unstructured text document\n",
        "unstructured_text = \"\"\"\n",
        "Hello, my name is John Doe. You can contact me at john.doe@example.com.\n",
        "I joined the company on 12/06/2021. My colleague, Jane Smith, can be reached at jane_smith22@workmail.com.\n",
        "She started on 01/11/2020.\n",
        "\"\"\"\n",
        "\n",
        "# Step 2: Extract structured information using regex\n",
        "import re\n",
        "\n",
        "# Extract names (capitalized first and last names)\n",
        "names = re.findall(r'[A-Z][a-z]+\\s[A-Z][a-z]+', unstructured_text)\n",
        "\n",
        "# Extract email addresses\n",
        "emails = re.findall(r'[\\w\\.-]+@[\\w\\.-]+', unstructured_text)\n",
        "\n",
        "# Extract dates in dd/mm/yyyy format\n",
        "dates = re.findall(r'\\d{2}/\\d{2}/\\d{4}', unstructured_text)\n",
        "\n",
        "# Display extracted structured data\n",
        "print(\"Names:\", names)\n",
        "print(\"Emails:\", emails)\n",
        "print(\"Dates:\", dates)"
      ]
    }
  ]
}