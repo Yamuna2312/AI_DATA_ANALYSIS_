{
  "nbformat": 4,
  "nbformat_minor": 0,
  "metadata": {
    "colab": {
      "provenance": []
    },
    "kernelspec": {
      "name": "python3",
      "display_name": "Python 3"
    },
    "language_info": {
      "name": "python"
    }
  },
  "cells": [
    {
      "cell_type": "code",
      "execution_count": null,
      "metadata": {
        "id": "7PdnDvP-L3CN"
      },
      "outputs": [],
      "source": [
        "import pandas as pd\n",
        "from textblob import TextBlob\n",
        "\n",
        "# Sample dataset with spelling errors\n",
        "data = {\n",
        "    'Text': [\n",
        "        \"This produt is amazng and affrdable.\",\n",
        "        \"Delivary was late but pacakge was fine.\",\n",
        "        \"Qualty of the item is exellent.\",\n",
        "        \"Would definatly recomed this seller.\",\n",
        "        \"The servce was terible and slow.\"\n",
        "    ]\n",
        "}\n",
        "\n",
        "df = pd.DataFrame(data)\n",
        "\n",
        "# Function to correct spelling using TextBlob\n",
        "def correct_spelling(text):\n",
        "    return str(TextBlob(text).correct())\n",
        "\n",
        "# Apply spelling correction\n",
        "df['Corrected_Text'] = df['Text'].apply(correct_spelling)\n",
        "\n",
        "# Display results\n",
        "print(\"Original and Corrected Reviews:\")\n",
        "print(df)"
      ]
    }
  ]
}