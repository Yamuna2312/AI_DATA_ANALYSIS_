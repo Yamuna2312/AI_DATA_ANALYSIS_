{
  "nbformat": 4,
  "nbformat_minor": 0,
  "metadata": {
    "colab": {
      "provenance": []
    },
    "kernelspec": {
      "name": "python3",
      "display_name": "Python 3"
    },
    "language_info": {
      "name": "python"
    }
  },
  "cells": [
    {
      "cell_type": "code",
      "execution_count": null,
      "metadata": {
        "id": "OTCpcCXzD-ZV"
      },
      "outputs": [],
      "source": [
        "import numpy as np\n",
        "import pandas as pd\n",
        "import matplotlib.pyplot as plt\n",
        "from sklearn.model_selection import train_test_split\n",
        "from sklearn.preprocessing import MinMaxScaler\n",
        "from keras.models import Sequential\n",
        "from keras.layers import Dense\n",
        "\n",
        "# Step 1: Simulate electricity consumption data\n",
        "np.random.seed(42)\n",
        "normal_data = np.random.normal(loc=300, scale=15, size=480)  # normal hours\n",
        "anomalies = np.array([100, 120, 500, 550, 600])  # fake spikes\n",
        "consumption = np.concatenate([normal_data, anomalies])\n",
        "df = pd.DataFrame({'consumption': consumption})\n",
        "\n",
        "# Normalize data\n",
        "scaler = MinMaxScaler()\n",
        "data_scaled = scaler.fit_transform(df[['consumption']])\n",
        "\n",
        "# Step 2: Build autoencoder model\n",
        "X_train, X_test = train_test_split(data_scaled, test_size=0.2, random_state=42)\n",
        "\n",
        "model = Sequential([\n",
        "    Dense(8, activation='relu', input_shape=(1,)),\n",
        "    Dense(4, activation='relu'),\n",
        "    Dense(8, activation='relu'),\n",
        "    Dense(1, activation='linear')\n",
        "])\n",
        "model.compile(optimizer='adam', loss='mse')\n",
        "model.fit(X_train, X_train, epochs=50, batch_size=16, verbose=0)\n",
        "\n",
        "# Step 3: Reconstruction and anomaly detection\n",
        "X_pred = model.predict(data_scaled)\n",
        "reconstruction_error = np.mean(np.square(X_pred - data_scaled), axis=1)\n",
        "df['reconstruction_error'] = reconstruction_error\n",
        "threshold = np.percentile(reconstruction_error, 95)  # Top 5% as anomalies\n",
        "df['anomaly'] = df['reconstruction_error'] > threshold\n",
        "\n",
        "# Step 4: Visualize\n",
        "plt.figure(figsize=(12, 6))\n",
        "plt.plot(df['consumption'], label='Actual')\n",
        "plt.plot(scaler.inverse_transform(X_pred), label='Reconstructed', alpha=0.7)\n",
        "plt.scatter(df[df['anomaly']].index, df[df['anomaly']]['consumption'], color='red', label='Anomaly')\n",
        "plt.title('Electricity Consumption - Autoencoder Anomaly Detection')\n",
        "plt.xlabel('Time')\n",
        "plt.ylabel('Consumption')\n",
        "plt.legend()\n",
        "plt.grid(True)\n",
        "plt.show()\n",
        "\n",
        "print(f\"Total anomalies detected: {df['anomaly'].sum()}\")"
      ]
    }
  ]
}