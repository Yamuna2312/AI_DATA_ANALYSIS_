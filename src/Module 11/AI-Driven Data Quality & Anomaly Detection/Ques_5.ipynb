{
  "nbformat": 4,
  "nbformat_minor": 0,
  "metadata": {
    "colab": {
      "provenance": []
    },
    "kernelspec": {
      "name": "python3",
      "display_name": "Python 3"
    },
    "language_info": {
      "name": "python"
    }
  },
  "cells": [
    {
      "cell_type": "code",
      "execution_count": null,
      "metadata": {
        "id": "r3D-Zv9eHvaF"
      },
      "outputs": [],
      "source": [
        "import pandas as pd\n",
        "from sklearn.preprocessing import StandardScaler\n",
        "from sklearn.cluster import AgglomerativeClustering\n",
        "from scipy.spatial.distance import pdist\n",
        "from scipy.cluster.hierarchy import dendrogram, linkage\n",
        "import matplotlib.pyplot as plt\n",
        "\n",
        "# Step 1: Simulate duplicate employee records\n",
        "data = {\n",
        "    'Name': ['Alice', 'Alicia', 'Bob', 'Robert', 'Rob', 'Charlie', 'Charli', 'David', 'Dave', 'Davi'],\n",
        "    'Department': ['HR', 'HR', 'Finance', 'Finance', 'Finance', 'IT', 'IT', 'Sales', 'Sales', 'Sales'],\n",
        "    'Age': [30, 31, 40, 39, 41, 35, 34, 28, 28, 27]\n",
        "}\n",
        "df = pd.DataFrame(data)\n",
        "\n",
        "# Encode categorical features\n",
        "df_encoded = pd.get_dummies(df, columns=['Name', 'Department'])\n",
        "\n",
        "# Step 2: Normalize data\n",
        "scaler = StandardScaler()\n",
        "X_scaled = scaler.fit_transform(df_encoded)\n",
        "\n",
        "# Step 3: Dendrogram to visualize clusters\n",
        "linked = linkage(X_scaled, method='ward')\n",
        "plt.figure(figsize=(10, 6))\n",
        "dendrogram(linked, labels=df['Name'].values, distance_sort='descending', show_leaf_counts=True)\n",
        "plt.title(\"Dendrogram for Employee Records\")\n",
        "plt.show()\n",
        "\n",
        "# Step 4: Apply Agglomerative Clustering\n",
        "clustering = AgglomerativeClustering(n_clusters=5)  # You can tune this value\n",
        "df['cluster'] = clustering.fit_predict(X_scaled)\n",
        "\n",
        "# Step 5: Identify representative records per cluster (first entry per cluster)\n",
        "dedup_df = df.drop_duplicates(subset='cluster', keep='first')\n",
        "\n",
        "# Show output\n",
        "print(\"Original Records with Cluster Labels:\")\n",
        "print(df[['Name', 'Department', 'Age', 'cluster']])\n",
        "print(\"\\nDeduplicated Records:\")\n",
        "print(dedup_df[['Name', 'Department', 'Age']])"
      ]
    }
  ]
}