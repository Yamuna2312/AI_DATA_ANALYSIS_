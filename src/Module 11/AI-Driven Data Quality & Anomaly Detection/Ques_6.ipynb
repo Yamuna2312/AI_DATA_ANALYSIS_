{
  "nbformat": 4,
  "nbformat_minor": 0,
  "metadata": {
    "colab": {
      "provenance": []
    },
    "kernelspec": {
      "name": "python3",
      "display_name": "Python 3"
    },
    "language_info": {
      "name": "python"
    }
  },
  "cells": [
    {
      "cell_type": "code",
      "execution_count": null,
      "metadata": {
        "id": "aKVVfOtbJJG1"
      },
      "outputs": [],
      "source": [
        "import pandas as pd\n",
        "import numpy as np\n",
        "from sklearn.preprocessing import StandardScaler\n",
        "from sklearn.cluster import DBSCAN\n",
        "import matplotlib.pyplot as plt\n",
        "\n",
        "# Step 1: Sample dataset simulating duplicate event registrations\n",
        "data = {\n",
        "    'Name': ['Amit', 'Ameet', 'Amith', 'Sonia', 'Sonya', 'Raj', 'Raju', 'Raghav', 'Ragav', 'Amit'],\n",
        "    'Age': [25, 25, 26, 30, 30, 28, 29, 35, 35, 25],\n",
        "    'Event': ['Hackathon', 'Hackathon', 'Hackathon', 'Workshop', 'Workshop', 'Meetup', 'Meetup', 'Seminar', 'Seminar', 'Hackathon']\n",
        "}\n",
        "df = pd.DataFrame(data)\n",
        "\n",
        "# Step 2: Encode categorical values\n",
        "df_encoded = pd.get_dummies(df, columns=['Name', 'Event'])\n",
        "\n",
        "# Normalize\n",
        "scaler = StandardScaler()\n",
        "X_scaled = scaler.fit_transform(df_encoded)\n",
        "\n",
        "# Step 3: Apply DBSCAN\n",
        "dbscan = DBSCAN(eps=1.5, min_samples=2)  # Tune eps as needed\n",
        "df['cluster'] = dbscan.fit_predict(X_scaled)\n",
        "\n",
        "# Step 4: Identify duplicates: entries in the same cluster\n",
        "duplicates = df[df['cluster'] != -1]\n",
        "dedup_df = duplicates.drop_duplicates(subset='cluster', keep='first')\n",
        "\n",
        "# Show results\n",
        "print(\"Original Records with Cluster Labels:\")\n",
        "print(df[['Name', 'Age', 'Event', 'cluster']])\n",
        "print(\"\\nDetected Duplicates:\")\n",
        "print(duplicates[['Name', 'Age', 'Event', 'cluster']])\n",
        "print(\"\\nDeduplicated Records (unique per cluster):\")\n",
        "print(dedup_df[['Name', 'Age', 'Event']])\n",
        "\n",
        "# Optional: Visualize clusters\n",
        "plt.scatter(df.index, df['Age'], c=df['cluster'], cmap='rainbow')\n",
        "plt.title(\"DBSCAN Clustering for Deduplication\")\n",
        "plt.xlabel(\"Index\")\n",
        "plt.ylabel(\"Age\")\n",
        "plt.grid(True)\n",
        "plt.show()"
      ]
    }
  ]
}