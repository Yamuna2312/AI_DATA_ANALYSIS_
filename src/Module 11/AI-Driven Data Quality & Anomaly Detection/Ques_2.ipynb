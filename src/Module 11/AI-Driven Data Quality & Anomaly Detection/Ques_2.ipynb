{
  "nbformat": 4,
  "nbformat_minor": 0,
  "metadata": {
    "colab": {
      "provenance": []
    },
    "kernelspec": {
      "name": "python3",
      "display_name": "Python 3"
    },
    "language_info": {
      "name": "python"
    }
  },
  "cells": [
    {
      "cell_type": "code",
      "execution_count": null,
      "metadata": {
        "id": "6Aulu1dUCNNu"
      },
      "outputs": [],
      "source": [
        "import numpy as np\n",
        "import pandas as pd\n",
        "import matplotlib.pyplot as plt\n",
        "from sklearn.ensemble import IsolationForest\n",
        "\n",
        "# Step 1: Create or load dataset (simulated server response times)\n",
        "np.random.seed(42)\n",
        "normal_times = np.random.normal(loc=200, scale=10, size=90)  # normal values\n",
        "anomalies = np.array([120, 130, 350, 360, 400, 450, 110, 500, 170, 600])  # injected anomalies\n",
        "response_times = np.concatenate([normal_times, anomalies])\n",
        "df = pd.DataFrame({'response_time': response_times})\n",
        "\n",
        "# Step 2: Train Isolation Forest\n",
        "model = IsolationForest(contamination=0.1, random_state=42)  # 10% contamination\n",
        "df['anomaly'] = model.fit_predict(df[['response_time']])\n",
        "\n",
        "# Step 3: Detect Anomalies\n",
        "df['anomaly'] = df['anomaly'].map({1: 0, -1: 1})  # 1 = anomaly\n",
        "anomalies_detected = df[df['anomaly'] == 1]\n",
        "\n",
        "# Step 4: Evaluate and visualize\n",
        "print(f\"Total anomalies detected: {len(anomalies_detected)} / 100\")\n",
        "\n",
        "# Plot\n",
        "plt.figure(figsize=(10, 5))\n",
        "plt.plot(df.index, df['response_time'], label='Response Time')\n",
        "plt.scatter(anomalies_detected.index, anomalies_detected['response_time'], color='red', label='Anomaly')\n",
        "plt.title(\"Server Response Time - Isolation Forest Anomaly Detection\")\n",
        "plt.xlabel(\"Index\")\n",
        "plt.ylabel(\"Response Time (ms)\")\n",
        "plt.legend()\n",
        "plt.grid(True)\n",
        "plt.show()"
      ]
    }
  ]
}