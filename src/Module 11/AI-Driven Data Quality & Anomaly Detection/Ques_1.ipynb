{
  "nbformat": 4,
  "nbformat_minor": 0,
  "metadata": {
    "colab": {
      "provenance": []
    },
    "kernelspec": {
      "name": "python3",
      "display_name": "Python 3"
    },
    "language_info": {
      "name": "python"
    }
  },
  "cells": [
    {
      "cell_type": "code",
      "execution_count": null,
      "metadata": {
        "id": "Qfuw_09aAX3U"
      },
      "outputs": [],
      "source": [
        "import pandas as pd\n",
        "import numpy as np\n",
        "import matplotlib.pyplot as plt\n",
        "\n",
        "# Step 1: Simulated sales dataset (can replace with CSV if needed)\n",
        "np.random.seed(42)\n",
        "sales = np.random.normal(loc=200, scale=15, size=100)\n",
        "sales[98:] = [300, 320]  # Inject anomalies at end\n",
        "df = pd.DataFrame({'day': range(1, 101), 'sales': sales})\n",
        "\n",
        "# Step 2: Calculate Z-score\n",
        "mean_sales = df['sales'].mean()\n",
        "std_sales = df['sales'].std()\n",
        "df['z_score'] = (df['sales'] - mean_sales) / std_sales\n",
        "\n",
        "# Step 3: Identify anomalies\n",
        "df['anomaly'] = df['z_score'].apply(lambda x: 1 if abs(x) > 3 else 0)\n",
        "\n",
        "# Step 4: Visualization\n",
        "plt.figure(figsize=(10, 5))\n",
        "plt.plot(df['day'], df['sales'], label='Sales')\n",
        "plt.scatter(df[df['anomaly'] == 1]['day'], df[df['anomaly'] == 1]['sales'],\n",
        "            color='red', label='Anomaly', zorder=5)\n",
        "plt.xlabel(\"Day\")\n",
        "plt.ylabel(\"Sales\")\n",
        "plt.title(\"Sales Data with Z-score Based Anomaly Detection\")\n",
        "plt.legend()\n",
        "plt.grid(True)\n",
        "plt.show()\n",
        "df = pd.read_csv(\"sales_data.csv\")  # Ensure 'sales' column exists"
      ]
    }
  ]
}