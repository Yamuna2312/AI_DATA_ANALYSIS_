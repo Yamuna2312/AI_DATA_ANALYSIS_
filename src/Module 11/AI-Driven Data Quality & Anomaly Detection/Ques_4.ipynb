{
  "nbformat": 4,
  "nbformat_minor": 0,
  "metadata": {
    "colab": {
      "provenance": []
    },
    "kernelspec": {
      "name": "python3",
      "display_name": "Python 3"
    },
    "language_info": {
      "name": "python"
    }
  },
  "cells": [
    {
      "cell_type": "code",
      "execution_count": null,
      "metadata": {
        "id": "utXd9c98GnO7"
      },
      "outputs": [],
      "source": [
        "import pandas as pd\n",
        "import numpy as np\n",
        "from sklearn.preprocessing import StandardScaler\n",
        "from sklearn.cluster import KMeans\n",
        "from sklearn.metrics import pairwise_distances_argmin_min\n",
        "import matplotlib.pyplot as plt\n",
        "\n",
        "# Step 1: Simulate duplicate customer records (you can replace this with CSV later)\n",
        "data = {\n",
        "    'Name': ['John', 'Jon', 'Johnny', 'Jane', 'Janet', 'Jake', 'Jakes', 'Jill', 'Jillian', 'Jack'],\n",
        "    'Age': [25, 25, 26, 30, 31, 27, 27, 29, 29, 26],\n",
        "    'City': ['NY', 'NYC', 'New York', 'LA', 'Los Angeles', 'LA', 'Los Angeles', 'Boston', 'Boston', 'NY']\n",
        "}\n",
        "df = pd.DataFrame(data)\n",
        "\n",
        "# Step 2: Preprocessing - Convert categorical to numerical using one-hot encoding\n",
        "df_encoded = pd.get_dummies(df, columns=['Name', 'City'])\n",
        "scaler = StandardScaler()\n",
        "X_scaled = scaler.fit_transform(df_encoded)\n",
        "\n",
        "# Step 3: Apply KMeans\n",
        "kmeans = KMeans(n_clusters=5, random_state=42)\n",
        "clusters = kmeans.fit_predict(X_scaled)\n",
        "df['cluster'] = clusters\n",
        "\n",
        "# Step 4: Identify duplicates within clusters using distance to centroid\n",
        "closest, _ = pairwise_distances_argmin_min(kmeans.cluster_centers_, X_scaled)\n",
        "dedup_df = df.iloc[closest]  # Keep only closest to centroid\n",
        "\n",
        "# Show results\n",
        "print(\"Original Records:\")\n",
        "print(df[['Name', 'Age', 'City', 'cluster']])\n",
        "print(\"\\nDeduplicated Records (one per cluster):\")\n",
        "print(dedup_df[['Name', 'Age', 'City', 'cluster']])\n",
        "\n",
        "# Optional: Visualize\n",
        "plt.scatter(df['Age'], df['cluster'], c=clusters, cmap='viridis')\n",
        "plt.title(\"Customer Clustering for Deduplication\")\n",
        "plt.xlabel(\"Age\")\n",
        "plt.ylabel(\"Cluster\")\n",
        "plt.grid(True)\n",
        "plt.show()"
      ]
    }
  ]
}