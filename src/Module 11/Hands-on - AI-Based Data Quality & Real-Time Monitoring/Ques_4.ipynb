{
  "nbformat": 4,
  "nbformat_minor": 0,
  "metadata": {
    "colab": {
      "provenance": []
    },
    "kernelspec": {
      "name": "python3",
      "display_name": "Python 3"
    },
    "language_info": {
      "name": "python"
    }
  },
  "cells": [
    {
      "cell_type": "code",
      "execution_count": null,
      "metadata": {
        "id": "pQby22PHNHzy"
      },
      "outputs": [],
      "source": []
    },
    {
      "cell_type": "code",
      "source": [
        "# Step 1: Import Libraries\n",
        "import pandas as pd\n",
        "from sklearn.ensemble import IsolationForest\n",
        "import matplotlib.pyplot as plt\n",
        "\n",
        "# Step 2: Load Dataset\n",
        "# Replace 'network_traffic.csv' with your actual dataset path or filename\n",
        "df = pd.read_csv('network_traffic.csv')\n",
        "\n",
        "# Display first few rows to understand data\n",
        "print(df.head())\n",
        "\n",
        "# Step 3: Feature Extraction / Selection\n",
        "# Select numeric columns suitable for anomaly detection\n",
        "# (Adjust based on actual dataset columns)\n",
        "features = df.select_dtypes(include=['float64', 'int64'])\n",
        "\n",
        "# Step 4: Train Isolation Forest\n",
        "iso_forest = IsolationForest(contamination=0.05, random_state=42)\n",
        "df['Anomaly'] = iso_forest.fit_predict(features)\n",
        "\n",
        "# Step 5: Display anomalies\n",
        "anomalies = df[df['Anomaly'] == -1]\n",
        "print(f\"Number of anomalies detected: {len(anomalies)}\")\n",
        "print(anomalies)\n",
        "\n",
        "# Step 6: Visualize anomalies (example: plot first two features)\n",
        "plt.figure(figsize=(10,6))\n",
        "colors = df['Anomaly'].map({1: 'green', -1: 'red'})\n",
        "plt.scatter(features.iloc[:,0], features.iloc[:,1], c=colors, alpha=0.6)\n",
        "plt.xlabel(features.columns[0])\n",
        "plt.ylabel(features.columns[1])\n",
        "plt.title('Isolation Forest Anomaly Detection on Network Traffic')\n",
        "plt.show()"
      ],
      "metadata": {
        "id": "xl3eoFF-OSV5"
      },
      "execution_count": null,
      "outputs": []
    },
    {
      "cell_type": "code",
      "source": [
        "from google.colab import drive\n",
        "drive.mount('/content/drive')"
      ],
      "metadata": {
        "id": "KHcYsNiWNLms"
      },
      "execution_count": null,
      "outputs": []
    }
  ]
}