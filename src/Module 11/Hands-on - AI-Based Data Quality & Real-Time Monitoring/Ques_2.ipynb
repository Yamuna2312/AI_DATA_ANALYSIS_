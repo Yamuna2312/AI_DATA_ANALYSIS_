{
  "nbformat": 4,
  "nbformat_minor": 0,
  "metadata": {
    "colab": {
      "provenance": []
    },
    "kernelspec": {
      "name": "python3",
      "display_name": "Python 3"
    },
    "language_info": {
      "name": "python"
    }
  },
  "cells": [
    {
      "cell_type": "code",
      "execution_count": null,
      "metadata": {
        "id": "pQby22PHNHzy"
      },
      "outputs": [],
      "source": [
        "# Step 1: Import Libraries\n",
        "import pandas as pd\n",
        "import matplotlib.pyplot as plt\n",
        "from sklearn.ensemble import IsolationForest\n",
        "import numpy as np\n",
        "\n",
        "# Step 2: Load Dataset\n",
        "# Simulating a financial transactions dataset\n",
        "np.random.seed(42)\n",
        "normal_data = np.random.normal(loc=1000, scale=100, size=200)\n",
        "anomalies = np.random.normal(loc=1500, scale=50, size=10)\n",
        "data = np.concatenate([normal_data, anomalies])\n",
        "df = pd.DataFrame(data, columns=['TransactionAmount'])\n",
        "\n",
        "# Step 3: Apply Isolation Forest\n",
        "iso_forest = IsolationForest(contamination=0.05, random_state=42)\n",
        "df['Anomaly'] = iso_forest.fit_predict(df[['TransactionAmount']])\n",
        "\n",
        "# Step 4: Visualize Anomalies\n",
        "plt.figure(figsize=(10, 5))\n",
        "colors = df['Anomaly'].map({1: 'green', -1: 'red'})\n",
        "plt.scatter(df.index, df['TransactionAmount'], c=colors)\n",
        "plt.title(\"Anomaly Detection in Financial Transactions (Isolation Forest)\")\n",
        "plt.xlabel(\"Transaction Index\")\n",
        "plt.ylabel(\"Transaction Amount\")\n",
        "plt.show()\n",
        "\n",
        "# Count of anomalies\n",
        "print(\"\\nAnomalies Detected:\")\n",
        "print(df['Anomaly'].value_counts())"
      ]
    },
    {
      "cell_type": "code",
      "source": [],
      "metadata": {
        "id": "xl3eoFF-OSV5"
      },
      "execution_count": null,
      "outputs": []
    },
    {
      "cell_type": "code",
      "source": [
        "from google.colab import drive\n",
        "drive.mount('/content/drive')"
      ],
      "metadata": {
        "id": "KHcYsNiWNLms"
      },
      "execution_count": null,
      "outputs": []
    }
  ]
}