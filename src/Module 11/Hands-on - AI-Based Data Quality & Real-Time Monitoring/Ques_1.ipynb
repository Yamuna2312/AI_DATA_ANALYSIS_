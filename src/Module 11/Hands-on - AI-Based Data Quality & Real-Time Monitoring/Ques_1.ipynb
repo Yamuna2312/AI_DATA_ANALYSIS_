{
  "nbformat": 4,
  "nbformat_minor": 0,
  "metadata": {
    "colab": {
      "provenance": []
    },
    "kernelspec": {
      "name": "python3",
      "display_name": "Python 3"
    },
    "language_info": {
      "name": "python"
    }
  },
  "cells": [
    {
      "cell_type": "code",
      "execution_count": null,
      "metadata": {
        "id": "pQby22PHNHzy"
      },
      "outputs": [],
      "source": [
        "# Task 1: Install & Load Dataset\n",
        "# !pip install scikit-learn matplotlib pandas\n",
        "\n",
        "from sklearn.datasets import load_boston\n",
        "from sklearn.ensemble import IsolationForest\n",
        "import pandas as pd\n",
        "import matplotlib.pyplot as plt\n",
        "\n",
        "# Load the Boston dataset (deprecated in latest sklearn; works up to version 1.2)\n",
        "boston = load_boston()\n",
        "df = pd.DataFrame(boston.data, columns=boston.feature_names)\n",
        "\n",
        "# Task 2: Initialize & Fit Isolation Forest\n",
        "iso_forest = IsolationForest(contamination=0.1, random_state=42)\n",
        "iso_forest.fit(df)\n",
        "\n",
        "# Task 3: Predict Anomalies\n",
        "df['Anomaly'] = iso_forest.predict(df)\n",
        "print(\"Anomaly counts (1 = normal, -1 = anomaly):\\n\", df['Anomaly'].value_counts())\n",
        "\n",
        "# Task 4: Visualize Anomalies using two features\n",
        "plt.figure(figsize=(10, 6))\n",
        "colors = ['red' if x == -1 else 'green' for x in df['Anomaly']]\n",
        "plt.scatter(df['RM'], df['LSTAT'], c=colors, alpha=0.6)\n",
        "plt.xlabel('Average number of rooms (RM)')\n",
        "plt.ylabel('% lower status population (LSTAT)')\n",
        "plt.title('Isolation Forest - Anomaly Detection')\n",
        "plt.show()\n",
        "\n",
        "# Task 5: Test with Different Contamination Value\n",
        "iso_forest_low = IsolationForest(contamination=0.05, random_state=42)\n",
        "iso_forest_low.fit(df.drop(columns=['Anomaly']))\n",
        "df['Anomaly_0.05'] = iso_forest_low.predict(df.drop(columns=['Anomaly']))\n",
        "print(\"\\nAnomaly count with contamination=0.05:\")\n",
        "print(df['Anomaly_0.05'].value_counts())"
      ]
    },
    {
      "cell_type": "code",
      "source": [
        "from google.colab import drive\n",
        "drive.mount('/content/drive')"
      ],
      "metadata": {
        "id": "KHcYsNiWNLms"
      },
      "execution_count": null,
      "outputs": []
    }
  ]
}