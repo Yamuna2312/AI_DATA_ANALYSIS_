{
  "nbformat": 4,
  "nbformat_minor": 0,
  "metadata": {
    "colab": {
      "provenance": []
    },
    "kernelspec": {
      "name": "python3",
      "display_name": "Python 3"
    },
    "language_info": {
      "name": "python"
    }
  },
  "cells": [
    {
      "cell_type": "code",
      "execution_count": null,
      "metadata": {
        "id": "pQby22PHNHzy"
      },
      "outputs": [],
      "source": [
        "# Step 1: Load Dataset\n",
        "import pandas as pd\n",
        "import numpy as np\n",
        "import matplotlib.pyplot as plt\n",
        "from sklearn.ensemble import IsolationForest\n",
        "from sklearn.preprocessing import StandardScaler\n",
        "\n",
        "# Simulated Sensor Dataset\n",
        "np.random.seed(42)\n",
        "normal_data = np.random.normal(loc=50, scale=5, size=(200, 2))  # Normal sensor readings\n",
        "anomaly_data = np.random.normal(loc=80, scale=3, size=(10, 2))  # Anomalous readings\n",
        "data = np.vstack((normal_data, anomaly_data))\n",
        "df = pd.DataFrame(data, columns=['Temperature', 'Vibration'])\n",
        "\n",
        "# Step 2: Feature Selection\n",
        "features = df[['Temperature', 'Vibration']]\n",
        "scaler = StandardScaler()\n",
        "scaled_features = scaler.fit_transform(features)\n",
        "\n",
        "# Step 3: Isolation Forest Implementation\n",
        "iso_forest = IsolationForest(contamination=0.05, random_state=42)\n",
        "df['Anomaly'] = iso_forest.fit_predict(scaled_features)\n",
        "\n",
        "# Step 4: Plot Results\n",
        "plt.figure(figsize=(8, 6))\n",
        "colors = df['Anomaly'].map({1: 'blue', -1: 'red'})\n",
        "plt.scatter(df['Temperature'], df['Vibration'], c=colors)\n",
        "plt.title('Isolation Forest - Sensor Anomaly Detection')\n",
        "plt.xlabel('Temperature')\n",
        "plt.ylabel('Vibration')\n",
        "plt.grid(True)\n",
        "plt.show()\n",
        "\n",
        "# Display anomaly count\n",
        "print(\"\\nAnomaly Counts:\")\n",
        "print(df['Anomaly'].value_counts())"
      ]
    },
    {
      "cell_type": "code",
      "source": [],
      "metadata": {
        "id": "xl3eoFF-OSV5"
      },
      "execution_count": null,
      "outputs": []
    },
    {
      "cell_type": "code",
      "source": [
        "from google.colab import drive\n",
        "drive.mount('/content/drive')"
      ],
      "metadata": {
        "id": "KHcYsNiWNLms"
      },
      "execution_count": null,
      "outputs": []
    }
  ]
}