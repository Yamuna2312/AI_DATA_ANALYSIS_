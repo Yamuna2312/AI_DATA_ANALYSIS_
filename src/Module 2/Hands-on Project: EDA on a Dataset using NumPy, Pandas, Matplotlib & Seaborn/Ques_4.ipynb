{
  "nbformat": 4,
  "nbformat_minor": 0,
  "metadata": {
    "colab": {
      "provenance": []
    },
    "kernelspec": {
      "name": "python3",
      "display_name": "Python 3"
    },
    "language_info": {
      "name": "python"
    }
  },
  "cells": [
    {
      "cell_type": "code",
      "execution_count": null,
      "metadata": {
        "id": "2W8X1yYFrc_B"
      },
      "outputs": [],
      "source": [
        "import seaborn as sns\n",
        "import matplotlib.pyplot as plt\n",
        "\n",
        "# Sample data: list of ages\n",
        "ages = [23, 25, 31, 22, 24, 30, 26, 29, 27, 35, 40, 23, 22]\n",
        "\n",
        "# Plotting the distribution\n",
        "sns.histplot(ages, kde=True)\n",
        "plt.title(\"Age Distribution\")\n",
        "plt.xlabel(\"Age\")\n",
        "plt.ylabel(\"Frequency\")\n",
        "plt.show()"
      ]
    },
    {
      "cell_type": "code",
      "source": [],
      "metadata": {
        "id": "MPJ6T3ctrgNF"
      },
      "execution_count": null,
      "outputs": []
    }
  ]
}