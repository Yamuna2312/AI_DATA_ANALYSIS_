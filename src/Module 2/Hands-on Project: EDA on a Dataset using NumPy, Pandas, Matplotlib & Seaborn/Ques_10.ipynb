{
  "nbformat": 4,
  "nbformat_minor": 0,
  "metadata": {
    "colab": {
      "provenance": []
    },
    "kernelspec": {
      "name": "python3",
      "display_name": "Python 3"
    },
    "language_info": {
      "name": "python"
    }
  },
  "cells": [
    {
      "cell_type": "code",
      "execution_count": null,
      "metadata": {
        "id": "JKOKq8kIwX5O"
      },
      "outputs": [],
      "source": [
        "# Step 1: Import Libraries\n",
        "import numpy as np\n",
        "import pandas as pd\n",
        "import seaborn as sns\n",
        "import matplotlib.pyplot as plt\n",
        "\n",
        "sns.set(style=\"whitegrid\")\n",
        "\n",
        "# Step 2: Load Dataset\n",
        "df = sns.load_dataset(\"iris\")  # You can replace this with your own dataset\n",
        "\n",
        "# Step 3: Basic Information\n",
        "print(\"First 5 rows:\\n\", df.head())\n",
        "print(\"\\nInfo:\\n\")\n",
        "df.info()\n",
        "print(\"\\nSummary Statistics:\\n\", df.describe())\n",
        "print(\"\\nSpecies Distribution:\\n\", df['species'].value_counts())\n",
        "\n",
        "# Step 4: Check for Missing Values\n",
        "print(\"\\nMissing Values:\\n\", df.isnull().sum())\n",
        "\n",
        "# Step 5: Univariate Analysis\n",
        "df.hist(figsize=(10, 8), bins=15)\n",
        "plt.suptitle(\"Histograms of Features\")\n",
        "plt.show()\n",
        "\n",
        "sns.boxplot(data=df, orient=\"h\")\n",
        "plt.title(\"Boxplot of All Features\")\n",
        "plt.show()\n",
        "\n",
        "# Step 6: Bivariate Analysis\n",
        "sns.pairplot(df, hue='species')\n",
        "plt.suptitle(\"Pairwise Feature Relationships\", y=1.02)\n",
        "plt.show()\n",
        "\n",
        "correlation = df.corr(numeric_only=True)\n",
        "sns.heatmap(correlation, annot=True, cmap=\"coolwarm\")\n",
        "plt.title(\"Correlation Heatmap\")\n",
        "plt.show()\n",
        "\n",
        "# Step 7: Feature Engineering\n",
        "df['petal_area'] = df['petal_length'] * df['petal_width']\n",
        "sns.boxplot(x='species', y='petal_area', data=df)\n",
        "plt.title(\"Boxplot of Petal Area by Species\")\n",
        "plt.show()\n",
        "\n",
        "# Step 8: Final Insights\n",
        "print(\"\\n--- Final Insights ---\")\n",
        "print(\"1. Petal features show strong correlation and class separation.\")\n",
        "print(\"2. No missing values found in this dataset.\")\n",
        "print(\"3. Newly created 'petal_area' clearly distinguishes species.\")"
      ]
    },
    {
      "cell_type": "code",
      "source": [
        "from google.colab import drive\n",
        "drive.mount('/content/drive')"
      ],
      "metadata": {
        "id": "yRzSPqAwwbCL"
      },
      "execution_count": null,
      "outputs": []
    }
  ]
}