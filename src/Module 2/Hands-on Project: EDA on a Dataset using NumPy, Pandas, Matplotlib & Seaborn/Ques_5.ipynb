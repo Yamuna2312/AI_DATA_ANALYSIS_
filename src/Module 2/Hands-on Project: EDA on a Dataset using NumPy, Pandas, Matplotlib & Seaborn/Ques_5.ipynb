{
  "nbformat": 4,
  "nbformat_minor": 0,
  "metadata": {
    "colab": {
      "provenance": []
    },
    "kernelspec": {
      "name": "python3",
      "display_name": "Python 3"
    },
    "language_info": {
      "name": "python"
    }
  },
  "cells": [
    {
      "cell_type": "code",
      "execution_count": null,
      "metadata": {
        "id": "y0I4XnJJsGld"
      },
      "outputs": [],
      "source": [
        "import pandas as pd\n",
        "\n",
        "# Sample dataset with missing values\n",
        "data = {\n",
        "    'age': [25, 30, None, 22, 28, None, 35],\n",
        "    'income': [50000, 60000, 58000, None, 62000, 61000, None]\n",
        "}\n",
        "df = pd.DataFrame(data)\n",
        "\n",
        "# Step 1: Check for missing values\n",
        "print(\"Missing values:\\n\", df.isnull().sum())\n",
        "\n",
        "# Step 2: Impute missing values with median\n",
        "df_filled = df.fillna(df.median(numeric_only=True))\n",
        "\n",
        "print(\"\\nData after imputation:\\n\", df_filled)"
      ]
    },
    {
      "cell_type": "code",
      "source": [],
      "metadata": {
        "id": "ROgpnYxIsNcz"
      },
      "execution_count": null,
      "outputs": []
    }
  ]
}