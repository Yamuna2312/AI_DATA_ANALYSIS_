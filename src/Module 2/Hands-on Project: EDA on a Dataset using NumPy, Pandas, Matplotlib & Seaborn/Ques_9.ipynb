{
  "nbformat": 4,
  "nbformat_minor": 0,
  "metadata": {
    "colab": {
      "provenance": []
    },
    "kernelspec": {
      "name": "python3",
      "display_name": "Python 3"
    },
    "language_info": {
      "name": "python"
    }
  },
  "cells": [
    {
      "cell_type": "code",
      "execution_count": null,
      "metadata": {
        "id": "SQsv3QG0vbam"
      },
      "outputs": [],
      "source": [
        "import pandas as pd\n",
        "import seaborn as sns\n",
        "import matplotlib.pyplot as plt\n",
        "\n",
        "# Load dataset\n",
        "df = sns.load_dataset('iris')\n",
        "\n",
        "# Step 1: Create a new feature - petal area\n",
        "df['petal_area'] = df['petal_length'] * df['petal_width']\n",
        "\n",
        "# Step 2: Visualize to verify its utility\n",
        "sns.boxplot(data=df, x='species', y='petal_area')\n",
        "plt.title(\"Petal Area by Species\")\n",
        "plt.show()"
      ]
    },
    {
      "cell_type": "code",
      "source": [],
      "metadata": {
        "id": "QrM5CzqSvgik"
      },
      "execution_count": null,
      "outputs": []
    }
  ]
}