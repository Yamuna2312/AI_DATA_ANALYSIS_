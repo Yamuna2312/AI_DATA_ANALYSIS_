{
  "nbformat": 4,
  "nbformat_minor": 0,
  "metadata": {
    "colab": {
      "provenance": []
    },
    "kernelspec": {
      "name": "python3",
      "display_name": "Python 3"
    },
    "language_info": {
      "name": "python"
    }
  },
  "cells": [
    {
      "cell_type": "code",
      "execution_count": null,
      "metadata": {
        "id": "_PrHe5Tpt7Ew"
      },
      "outputs": [],
      "source": [
        "import pandas as pd\n",
        "\n",
        "# Sample dataset similar to Iris\n",
        "data = {\n",
        "    'species': ['setosa', 'setosa', 'versicolor', 'versicolor', 'virginica', 'virginica'],\n",
        "    'sepal_length': [5.1, 4.9, 7.0, 6.4, 6.3, 5.8],\n",
        "    'sepal_width': [3.5, 3.0, 3.2, 3.2, 3.3, 2.7],\n",
        "    'petal_length': [1.4, 1.4, 4.7, 4.5, 6.0, 5.1],\n",
        "    'petal_width': [0.2, 0.2, 1.4, 1.5, 2.5, 1.9]\n",
        "}\n",
        "df = pd.DataFrame(data)\n",
        "\n",
        "# Group by species and compute mean of each feature\n",
        "grouped_avg = df.groupby('species').mean(numeric_only=True)\n",
        "\n",
        "print(grouped_avg)"
      ]
    },
    {
      "cell_type": "code",
      "source": [],
      "metadata": {
        "id": "wDbs7FzKuA7Y"
      },
      "execution_count": null,
      "outputs": []
    }
  ]
}