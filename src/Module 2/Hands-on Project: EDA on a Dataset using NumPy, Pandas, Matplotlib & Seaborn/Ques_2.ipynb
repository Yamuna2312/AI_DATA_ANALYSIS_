{
  "nbformat": 4,
  "nbformat_minor": 0,
  "metadata": {
    "colab": {
      "provenance": []
    },
    "kernelspec": {
      "name": "python3",
      "display_name": "Python 3"
    },
    "language_info": {
      "name": "python"
    }
  },
  "cells": [
    {
      "cell_type": "code",
      "execution_count": null,
      "metadata": {
        "id": "2es3cv57EJq8"
      },
      "outputs": [],
      "source": [
        "# Import required libraries\n",
        "import numpy as np\n",
        "import pandas as pd\n",
        "from sklearn.datasets import load_iris\n",
        "\n",
        "# Load Iris dataset\n",
        "iris = load_iris()\n",
        "data = iris.data\n",
        "feature_names = iris.feature_names\n",
        "\n",
        "# Convert to NumPy array\n",
        "data_np = np.array(data)\n",
        "\n",
        "# Calculate basic statistics using NumPy\n",
        "mean_values = np.mean(data_np, axis=0)\n",
        "min_values = np.min(data_np, axis=0)\n",
        "max_values = np.max(data_np, axis=0)\n",
        "std_values = np.std(data_np, axis=0)\n",
        "\n",
        "# Display results\n",
        "print(\"Feature Names:\", feature_names)\n",
        "print(\"\\nMean of each feature:\\n\", mean_values)\n",
        "print(\"\\nMinimum of each feature:\\n\", min_values)\n",
        "print(\"\\nMaximum of each feature:\\n\", max_values)\n",
        "print(\"\\nStandard Deviation of each feature:\\n\", std_values)"
      ]
    },
    {
      "cell_type": "code",
      "source": [
        "from google.colab import drive\n",
        "drive.mount('/content/drive')"
      ],
      "metadata": {
        "id": "_lPJktcVENM3"
      },
      "execution_count": null,
      "outputs": []
    }
  ]
}