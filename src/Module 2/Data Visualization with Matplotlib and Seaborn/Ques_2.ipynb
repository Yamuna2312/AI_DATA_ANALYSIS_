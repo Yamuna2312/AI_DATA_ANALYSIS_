{
  "nbformat": 4,
  "nbformat_minor": 0,
  "metadata": {
    "colab": {
      "provenance": []
    },
    "kernelspec": {
      "name": "python3",
      "display_name": "Python 3"
    },
    "language_info": {
      "name": "python"
    }
  },
  "cells": [
    {
      "cell_type": "code",
      "execution_count": null,
      "metadata": {
        "id": "w4cJSUNSHdn9"
      },
      "outputs": [],
      "source": [
        "# Import required library\n",
        "import matplotlib.pyplot as plt\n",
        "\n",
        "# Heights and Weights data\n",
        "heights = [160, 170, 165, 180, 175]\n",
        "weights = [55, 65, 60, 80, 76]\n",
        "\n",
        "# Create scatter plot\n",
        "plt.figure(figsize=(8, 6))\n",
        "plt.scatter(heights, weights, color='green', marker='o')\n",
        "plt.title('Height vs Weight')\n",
        "plt.xlabel('Height (cm)')\n",
        "plt.ylabel('Weight (kg)')\n",
        "plt.grid(True, linestyle='--', alpha=0.5)\n",
        "plt.tight_layout()\n",
        "plt.show()"
      ]
    },
    {
      "cell_type": "code",
      "source": [
        "from google.colab import drive\n",
        "drive.mount('/content/drive')"
      ],
      "metadata": {
        "id": "PcJtOnaEHieX"
      },
      "execution_count": null,
      "outputs": []
    },
    {
      "cell_type": "code",
      "source": [],
      "metadata": {
        "id": "eVeVPPE9HjZG"
      },
      "execution_count": null,
      "outputs": []
    }
  ]
}