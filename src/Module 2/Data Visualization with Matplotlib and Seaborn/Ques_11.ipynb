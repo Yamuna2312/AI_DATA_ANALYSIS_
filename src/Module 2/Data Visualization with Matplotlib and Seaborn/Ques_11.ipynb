{
  "nbformat": 4,
  "nbformat_minor": 0,
  "metadata": {
    "colab": {
      "provenance": []
    },
    "kernelspec": {
      "name": "python3",
      "display_name": "Python 3"
    },
    "language_info": {
      "name": "python"
    }
  },
  "cells": [
    {
      "cell_type": "code",
      "execution_count": null,
      "metadata": {
        "id": "zbJ5M3_ZxPRc"
      },
      "outputs": [],
      "source": [
        "import matplotlib.pyplot as plt\n",
        "\n",
        "# Sample Data\n",
        "products = ['Product A', 'Product B', 'Product C']\n",
        "sales = [150, 200, 250]\n",
        "\n",
        "heights = [150, 160, 170, 180, 190]\n",
        "weights = [50, 60, 65, 80, 85]\n",
        "\n",
        "# Create subplots: 1 row, 2 columns\n",
        "fig, axs = plt.subplots(1, 2, figsize=(12, 5))\n",
        "\n",
        "# Bar Plot for Product Sales\n",
        "axs[0].bar(products, sales, color='skyblue')\n",
        "axs[0].set_title(\"Product Sales\")\n",
        "axs[0].set_ylabel(\"Sales\")\n",
        "axs[0].set_xlabel(\"Products\")\n",
        "\n",
        "# Scatter Plot for Height vs Weight\n",
        "axs[1].scatter(heights, weights, color='orange')\n",
        "axs[1].set_title(\"Height vs. Weight\")\n",
        "axs[1].set_xlabel(\"Height (cm)\")\n",
        "axs[1].set_ylabel(\"Weight (kg)\")\n",
        "\n",
        "# Adjust layout and display\n",
        "plt.tight_layout()\n",
        "plt.show()"
      ]
    }
  ]
}