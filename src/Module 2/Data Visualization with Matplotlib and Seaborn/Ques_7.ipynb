{
  "nbformat": 4,
  "nbformat_minor": 0,
  "metadata": {
    "colab": {
      "provenance": []
    },
    "kernelspec": {
      "name": "python3",
      "display_name": "Python 3"
    },
    "language_info": {
      "name": "python"
    }
  },
  "cells": [
    {
      "cell_type": "code",
      "execution_count": null,
      "metadata": {
        "id": "CpDWJLoWL4Ow"
      },
      "outputs": [],
      "source": [
        "# Import required libraries\n",
        "import seaborn as sns\n",
        "import matplotlib.pyplot as plt\n",
        "import pandas as pd\n",
        "\n",
        "# Heights, Weights, and Size data\n",
        "heights = [160, 170, 165, 180, 175]\n",
        "weights = [55, 65, 60, 80, 76]\n",
        "size = [10, 15, 13, 18, 12]\n",
        "\n",
        "# Create a DataFrame\n",
        "df = pd.DataFrame({'Height (cm)': heights, 'Weight (kg)': weights, 'Size': size})\n",
        "\n",
        "# Create advanced scatter plot using Seaborn\n",
        "plt.figure(figsize=(8, 6))\n",
        "sns.scatterplot(data=df, x='Height (cm)', y='Weight (kg)', size='Size', sizes=(50, 300), color='purple', legend=False)\n",
        "plt.title('Advanced Height vs Weight Scatter Plot')\n",
        "plt.grid(True, linestyle='--', alpha=0.5)\n",
        "plt.tight_layout()\n",
        "plt.show()"
      ]
    },
    {
      "cell_type": "code",
      "source": [],
      "metadata": {
        "id": "LvoPi9YzL79I"
      },
      "execution_count": null,
      "outputs": []
    }
  ]
}