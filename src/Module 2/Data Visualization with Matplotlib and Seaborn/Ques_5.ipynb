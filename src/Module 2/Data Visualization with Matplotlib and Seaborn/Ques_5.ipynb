{
  "nbformat": 4,
  "nbformat_minor": 0,
  "metadata": {
    "colab": {
      "provenance": []
    },
    "kernelspec": {
      "name": "python3",
      "display_name": "Python 3"
    },
    "language_info": {
      "name": "python"
    }
  },
  "cells": [
    {
      "cell_type": "code",
      "execution_count": null,
      "metadata": {
        "id": "gOnzYaNpKTen"
      },
      "outputs": [],
      "source": [
        "# Import required library\n",
        "import matplotlib.pyplot as plt\n",
        "\n",
        "# Marks obtained by students\n",
        "marks = [23, 45, 56, 78, 89, 90, 67, 88, 76, 59]\n",
        "\n",
        "# Create histogram\n",
        "plt.figure(figsize=(8, 6))\n",
        "plt.hist(marks, bins=5, color='orange', edgecolor='black')\n",
        "plt.title('Distribution of Marks')\n",
        "plt.xlabel('Marks')\n",
        "plt.ylabel('Number of Students')\n",
        "plt.grid(axis='y', linestyle='--', alpha=0.7)\n",
        "plt.tight_layout()\n",
        "plt.show()"
      ]
    },
    {
      "cell_type": "code",
      "source": [],
      "metadata": {
        "id": "Mn-F2cCJKWys"
      },
      "execution_count": null,
      "outputs": []
    }
  ]
}