{
  "nbformat": 4,
  "nbformat_minor": 0,
  "metadata": {
    "colab": {
      "provenance": []
    },
    "kernelspec": {
      "name": "python3",
      "display_name": "Python 3"
    },
    "language_info": {
      "name": "python"
    }
  },
  "cells": [
    {
      "cell_type": "code",
      "execution_count": null,
      "metadata": {
        "id": "OUfu3hugyCZg"
      },
      "outputs": [],
      "source": [
        "import seaborn as sns\n",
        "import matplotlib.pyplot as plt\n",
        "\n",
        "# Load the sample 'tips' dataset\n",
        "df = sns.load_dataset('tips')\n",
        "\n",
        "# Create a Seaborn scatter plot with regression line\n",
        "sns.lmplot(data=df, x='total_bill', y='tip', hue='sex', aspect=1.5)\n",
        "\n",
        "# Add title and display\n",
        "plt.title('Total Bill vs Tip by Gender')\n",
        "plt.show()"
      ]
    }
  ]
}