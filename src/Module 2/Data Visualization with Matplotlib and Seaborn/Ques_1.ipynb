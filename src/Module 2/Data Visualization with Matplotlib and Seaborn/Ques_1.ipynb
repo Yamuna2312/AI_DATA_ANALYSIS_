{
  "nbformat": 4,
  "nbformat_minor": 0,
  "metadata": {
    "colab": {
      "provenance": []
    },
    "kernelspec": {
      "name": "python3",
      "display_name": "Python 3"
    },
    "language_info": {
      "name": "python"
    }
  },
  "cells": [
    {
      "cell_type": "code",
      "execution_count": null,
      "metadata": {
        "id": "y8Gte7q-Gd-F"
      },
      "outputs": [],
      "source": [
        "# Import required libraries\n",
        "import matplotlib.pyplot as plt\n",
        "\n",
        "# Product names and sales values (in thousands)\n",
        "products = ['A', 'B', 'C', 'D', 'E']\n",
        "sales = [23, 75, 57, 90, 65]\n",
        "\n",
        "# Create bar plot\n",
        "plt.figure(figsize=(8, 6))\n",
        "plt.bar(products, sales, color='skyblue')\n",
        "plt.title('Product Sales (in Thousands)')\n",
        "plt.xlabel('Products')\n",
        "plt.ylabel('Sales')\n",
        "plt.grid(axis='y', linestyle='--', alpha=0.7)\n",
        "plt.tight_layout()\n",
        "plt.show()"
      ]
    },
    {
      "cell_type": "code",
      "source": [],
      "metadata": {
        "id": "I63j1VBnGnLB"
      },
      "execution_count": null,
      "outputs": []
    }
  ]
}