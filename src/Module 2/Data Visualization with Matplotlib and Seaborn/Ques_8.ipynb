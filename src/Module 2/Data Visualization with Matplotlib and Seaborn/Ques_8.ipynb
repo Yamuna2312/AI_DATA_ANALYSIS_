{
  "nbformat": 4,
  "nbformat_minor": 0,
  "metadata": {
    "colab": {
      "provenance": []
    },
    "kernelspec": {
      "name": "python3",
      "display_name": "Python 3"
    },
    "language_info": {
      "name": "python"
    }
  },
  "cells": [
    {
      "cell_type": "code",
      "execution_count": null,
      "metadata": {
        "id": "EjIpFjvaMwDY"
      },
      "outputs": [],
      "source": [
        "# Import required libraries\n",
        "import seaborn as sns\n",
        "import matplotlib.pyplot as plt\n",
        "\n",
        "# Marks data\n",
        "marks = [23, 45, 56, 78, 89, 90, 67, 88, 76, 59]\n",
        "\n",
        "# Create a Seaborn histogram with KDE\n",
        "plt.figure(figsize=(8, 6))\n",
        "sns.histplot(marks, kde=True, color='blue', bins=6, kde_kws={'color': 'red'})\n",
        "plt.title('Histogram of Marks with KDE')\n",
        "plt.xlabel('Marks')\n",
        "plt.ylabel('Frequency')\n",
        "plt.grid(True, linestyle='--', alpha=0.5)\n",
        "plt.tight_layout()\n",
        "plt.show()"
      ]
    },
    {
      "cell_type": "code",
      "source": [],
      "metadata": {
        "id": "u4Edjc_XMzs3"
      },
      "execution_count": null,
      "outputs": []
    }
  ]
}