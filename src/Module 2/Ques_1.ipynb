{
  "nbformat": 4,
  "nbformat_minor": 0,
  "metadata": {
    "colab": {
      "provenance": []
    },
    "kernelspec": {
      "name": "python3",
      "display_name": "Python 3"
    },
    "language_info": {
      "name": "python"
    }
  },
  "cells": [
    {
      "cell_type": "code",
      "execution_count": null,
      "metadata": {
        "id": "L-aUotrZqP1n"
      },
      "outputs": [],
      "source": [
        "# Import required libraries\n",
        "import pandas as pd\n",
        "import numpy as np\n",
        "\n",
        "# Test Case 1: Create DataFrame with 5 rows and 3 columns ['A', 'B', 'C'] with integers from 1 to 15\n",
        "print(\"=== Test Case 1 ===\")\n",
        "data1 = {'A': [1, 4, 7, 10, 13],\n",
        "         'B': [2, 5, 8, 11, 14],\n",
        "         'C': [3, 6, 9, 12, 15]}\n",
        "df1 = pd.DataFrame(data1)\n",
        "print(\"Head (first 3 rows):\")\n",
        "print(df1.head(3))\n",
        "print(\"\\nTail (last 2 rows):\")\n",
        "print(df1.tail(2))\n",
        "\n",
        "# Test Case 2: Create DataFrame with 10 rows and 2 columns ['X', 'Y'] with random integers between 10 and 100\n",
        "print(\"\\n=== Test Case 2 ===\")\n",
        "df2 = pd.DataFrame({\n",
        "    'X': np.random.randint(10, 101, size=10),\n",
        "    'Y': np.random.randint(10, 101, size=10)\n",
        "})\n",
        "print(df2)\n",
        "\n",
        "# Test Case 3: Create DataFrame with 7 rows and 4 columns ['W', 'X', 'Y', 'Z'] with floats from 0.1 to 7.7\n",
        "print(\"\\n=== Test Case 3 ===\")\n",
        "float_values = np.linspace(0.1, 7.7, 28)\n",
        "data3 = float_values.reshape(7, 4)\n",
        "df3 = pd.DataFrame(data3, columns=['W', 'X', 'Y', 'Z'])\n",
        "print(df3)"
      ]
    },
    {
      "cell_type": "code",
      "source": [],
      "metadata": {
        "id": "jGIQaaSPqW9c"
      },
      "execution_count": null,
      "outputs": []
    }
  ]
}